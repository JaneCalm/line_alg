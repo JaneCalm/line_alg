{
 "cells": [
  {
   "cell_type": "markdown",
   "metadata": {},
   "source": [
    "__1.__ Найти собственные векторы и собственные значения для линейного оператора, заданного матрицей\n",
    "\n",
    "$$A=\\begin{pmatrix}\n",
    "-1 & -6\\\\ \n",
    "2 & 6\n",
    "\\end{pmatrix}.$$\n"
   ]
  },
  {
   "cell_type": "markdown",
   "metadata": {},
   "source": [
    "$$\\begin{vmatrix}\n",
    "-1-\\lambda & -6\\\\ \n",
    "2 & 6-\\lambda\n",
    "\\end{vmatrix} $$\n",
    ".\n",
    "$$(-1-\\lambda)(6-\\lambda) - (-6)\\cdot 2 =0 $$\n",
    ".\n",
    "$$\\lambda^2 - 5\\lambda + 6 = 0$$\n",
    ".\n",
    "$$\\begin{cases}\n",
    "     \\lambda_1 = 2 \\\\\n",
    "     \\lambda_2 = 3\n",
    "\\end{cases}$$\n",
    ".\n",
    "$$\\begin{pmatrix}\n",
    "-1 & -6\\\\ \n",
    "2 & 6\n",
    "\\end{pmatrix}\n",
    ".\n",
    "\\begin{pmatrix}\n",
    "x_{1}\\\\ \n",
    "x_{2}\n",
    "\\end{pmatrix}=\n",
    "\\lambda\n",
    "\\begin{pmatrix}\n",
    "x_{1}\\\\ \n",
    "x_{2}\n",
    "\\end{pmatrix}\n",
    "$$\n",
    ".\n",
    "$$\\begin{cases}\n",
    "    -x_1 -6x_2 = 2x_1 \\\\\n",
    "    2x_1 + 6x_2 = 2x_2\n",
    "\\end{cases}$$\n",
    ".\n",
    "$$x_1 = -2x_2$$\n",
    ".\n",
    "$$x = \\begin{pmatrix}\n",
    "-2x_2\\\\ \n",
    "x_2\n",
    "\\end{pmatrix}$$\n",
    ".пусть x2 = 1\n",
    "$$x = \\begin{pmatrix}\n",
    "-2\\\\ \n",
    "1\n",
    "\\end{pmatrix}$$\n",
    ".\n",
    "$$\\begin{cases}\n",
    "    -x_1 -6x_2 = 3x_1 \\\\\n",
    "    2x_1 + 6x_2 = 3x_2\n",
    "\\end{cases}$$\n",
    ".\n",
    "$$x_1 = -\\frac{3}{2}x_2$$\n",
    ".\n",
    "$$x = \\begin{pmatrix}\n",
    "-\\frac{3}{2}x_2\\\\ \n",
    "x_2\n",
    "\\end{pmatrix}$$\n",
    ".\n",
    "$$x = \\begin{pmatrix}\n",
    "-\\frac{3}{2}\\\\ \n",
    "1\n",
    "\\end{pmatrix}$$"
   ]
  },
  {
   "cell_type": "code",
   "execution_count": 1,
   "metadata": {},
   "outputs": [],
   "source": [
    "import numpy as np"
   ]
  },
  {
   "cell_type": "code",
   "execution_count": 2,
   "metadata": {},
   "outputs": [
    {
     "name": "stdout",
     "output_type": "stream",
     "text": [
      "\n",
      "[[-1 -6]\n",
      " [ 2  6]]\n",
      "Собственные значения\n",
      "[2. 3.]\n",
      "Собственные векторы\n",
      "[[-0.89442719  0.83205029]\n",
      " [ 0.4472136  -0.5547002 ]]\n"
     ]
    }
   ],
   "source": [
    "A = np.array([[-1, -6], [2, 6]])\n",
    "w, v = np.linalg.eig(A)\n",
    "\n",
    "print(f'\\n{A}')\n",
    "print(f'Собственные значения\\n{w}')\n",
    "print(f'Собственные векторы\\n{v}')"
   ]
  },
  {
   "cell_type": "markdown",
   "metadata": {},
   "source": [
    "\n",
    "__2.__ Дан оператор поворота на 180 градусов, задаваемый матрицей \n",
    "\n",
    "$$A=\\begin{pmatrix}\n",
    "-1 & 0\\\\ \n",
    "0 & -1\n",
    "\\end{pmatrix}.$$\n",
    "\n",
    "Показать, что __любой__ вектор является для него собственным."
   ]
  },
  {
   "cell_type": "markdown",
   "metadata": {},
   "source": [
    "\n",
    "$$\\begin{pmatrix}\n",
    "-1 & 0\\\\ \n",
    "0 & -1\n",
    "\\end{pmatrix}\n",
    "\\begin{pmatrix}\n",
    "x_{1}\\\\ \n",
    "x_{2}\n",
    "\\end{pmatrix}=\n",
    "\\lambda\n",
    "\\begin{pmatrix}\n",
    "x_{1}\\\\ \n",
    "x_{2}\n",
    "\\end{pmatrix}.\n",
    "$$\n",
    "..\n",
    "\n",
    "$\n",
    "\\lambda=-1\n",
    "$\n",
    ".\n",
    "$$\\begin{cases}\n",
    "-x_{1}+0\\cdot x_{2}= -x_{1}, \\\\\n",
    "0\\cdot x_{1}-x_{2}= -x_{2}.\n",
    "\\end{cases}$$\n",
    "..\n",
    "$$\\begin{cases}\n",
    " - x_{1} = -x_{1}, \\\\\n",
    " - x_{2} = -x_{2}.\n",
    "\\end{cases}$$"
   ]
  },
  {
   "cell_type": "code",
   "execution_count": 8,
   "metadata": {},
   "outputs": [
    {
     "name": "stdout",
     "output_type": "stream",
     "text": [
      "Матрица A:\n",
      "[[-1  0]\n",
      " [ 0 -1]]\n",
      "Собственные значения:\n",
      "[-1. -1.]\n",
      "Собственные векторы:\n",
      "[[1. 0.]\n",
      " [0. 1.]]\n"
     ]
    }
   ],
   "source": [
    "A = np.array([[-1, 0],\n",
    "              [0, -1]])\n",
    "w, v = np.linalg.eig(A)\n",
    "\n",
    "print(f'Матрица A:\\n{A}')\n",
    "print(f'Собственные значения:\\n{w}')\n",
    "print(f'Собственные векторы:\\n{v}')"
   ]
  },
  {
   "cell_type": "markdown",
   "metadata": {},
   "source": [
    "\n",
    "\n",
    "__3.__ Пусть линейный оператор задан матрицей\n",
    "\n",
    "$$A=\\begin{pmatrix}\n",
    "1 & 1\\\\ \n",
    "-1 & 3\n",
    "\\end{pmatrix}.$$\n",
    "\n",
    "Установить, является ли вектор $x=(1,1)$ собственным вектором этого линейного оператора.\n",
    "\n"
   ]
  },
  {
   "cell_type": "markdown",
   "metadata": {},
   "source": [
    "$$\\begin{cases}\n",
    "    1 + 1 = \\lambda \\\\\n",
    "    -1 + 3 = \\lambda\n",
    "\\end{cases}$$\n",
    "..\n",
    "$$\\begin{cases}\n",
    "    \\lambda = 2 \\\\\n",
    "    \\lambda = 2 \n",
    "\\end{cases}$$\n"
   ]
  },
  {
   "cell_type": "code",
   "execution_count": 3,
   "metadata": {},
   "outputs": [
    {
     "data": {
      "text/plain": [
       "array([[1.],\n",
       "       [1.]])"
      ]
     },
     "execution_count": 3,
     "metadata": {},
     "output_type": "execute_result"
    }
   ],
   "source": [
    "A = np.array([[1, 1],\n",
    "              [-1, 3]])\n",
    "v = np.array([[1],\n",
    "              [1]])\n",
    "A_2 = np.dot(A, v)\n",
    "A_2/2"
   ]
  },
  {
   "cell_type": "markdown",
   "metadata": {},
   "source": [
    "(1, 1) собственный вектор"
   ]
  },
  {
   "cell_type": "markdown",
   "metadata": {},
   "source": [
    "__4.__ Пусть линейный оператор задан матрицей\n",
    "\n",
    "$$A=\\begin{pmatrix}\n",
    "0 & 3 & 0\\\\ \n",
    "3 & 0 & 0\\\\\n",
    "0 & 0 & 3\n",
    "\\end{pmatrix}.$$\n",
    "\n",
    "Установить, является ли вектор $x=(3, -3, -4)$ собственным вектором этого линейного оператора."
   ]
  },
  {
   "cell_type": "markdown",
   "metadata": {},
   "source": [
    "$$\\begin{cases}\n",
    "    0 \\cdot 3 + 3 \\cdot (-3) + 0\\cdot (-4) = 3 \\lambda \\\\\n",
    "    3 \\cdot 3 + 0 \\cdot (-3) + 0 \\cdot (-4) = -3 \\lambda \\\\\n",
    "    0 \\cdot (3) + 0 \\cdot (-3) + 3 \\cdot (-4) = -4 \\lambda\n",
    "\\end{cases}$$\n",
    "..\n",
    "$$\\begin{cases}\n",
    "    -9 = 3 \\lambda \\\\\n",
    "    9 = -3 \\lambda \\\\\n",
    "    -12 = -4 \\lambda\n",
    "\\end{cases}$$\n",
    "..\n",
    "$$\\begin{cases}\n",
    "    \\lambda = -3 \\\\\n",
    "    \\lambda = -3 \\\\\n",
    "    \\lambda = 3 \n",
    "\\end{cases}$$\n",
    "нет cходится"
   ]
  },
  {
   "cell_type": "code",
   "execution_count": 4,
   "metadata": {},
   "outputs": [
    {
     "data": {
      "text/plain": [
       "array([[ -9],\n",
       "       [  9],\n",
       "       [-12]])"
      ]
     },
     "execution_count": 4,
     "metadata": {},
     "output_type": "execute_result"
    }
   ],
   "source": [
    "A = np.array([[0, 3, 0],\n",
    "              [3, 0, 0],\n",
    "              [0, 0, 3]])\n",
    "v = np.array([[3],\n",
    "              [-3],\n",
    "              [-4]])\n",
    "A_2 = np.dot(A, v)\n",
    "A_2"
   ]
  },
  {
   "cell_type": "code",
   "execution_count": 5,
   "metadata": {},
   "outputs": [
    {
     "data": {
      "text/plain": [
       "array([[-3.],\n",
       "       [ 3.],\n",
       "       [-4.]])"
      ]
     },
     "execution_count": 5,
     "metadata": {},
     "output_type": "execute_result"
    }
   ],
   "source": [
    "A_2/3"
   ]
  },
  {
   "cell_type": "code",
   "execution_count": 6,
   "metadata": {},
   "outputs": [
    {
     "data": {
      "text/plain": [
       "array([[ 3.],\n",
       "       [-3.],\n",
       "       [ 4.]])"
      ]
     },
     "execution_count": 6,
     "metadata": {},
     "output_type": "execute_result"
    }
   ],
   "source": [
    "A_2/-3"
   ]
  },
  {
   "cell_type": "markdown",
   "metadata": {},
   "source": [
    "не является собственным вектором"
   ]
  }
 ],
 "metadata": {
  "kernelspec": {
   "display_name": "Python 3",
   "language": "python",
   "name": "python3"
  },
  "language_info": {
   "codemirror_mode": {
    "name": "ipython",
    "version": 3
   },
   "file_extension": ".py",
   "mimetype": "text/x-python",
   "name": "python",
   "nbconvert_exporter": "python",
   "pygments_lexer": "ipython3",
   "version": "3.7.6"
  }
 },
 "nbformat": 4,
 "nbformat_minor": 4
}
