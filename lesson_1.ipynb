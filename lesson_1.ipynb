{
 "cells": [
  {
   "cell_type": "markdown",
   "metadata": {},
   "source": [
    "__1.__ Исследовать на линейную зависимость:\n",
    "$$f_{1}(x)=e^{x}, f_{2}(x)=1, f_{3}(x)=x+1, f_{4}(x)=x-e^{x}.$$"
   ]
  },
  {
   "cell_type": "markdown",
   "metadata": {},
   "source": [
    "$f_{4}(x)=f_{3}(x)-f_{2}(x)-f_{1}(x)$\n",
    "\n",
    "--> вектора линейно зависимы"
   ]
  },
  {
   "cell_type": "markdown",
   "metadata": {},
   "source": [
    "__2.__ Исследовать на линейную зависимость:\n",
    "$$f_{1}(x)=2, f_{2}(x)=x, f_{3}(x)=x^{2}, f_{4}(x)=(x+1)^{2}.$$"
   ]
  },
  {
   "cell_type": "markdown",
   "metadata": {},
   "source": [
    "$f_{4}(x)=f_{3}(x)+2f_{2}(x)+0.5f_{1}(x)$\n",
    "\n",
    "--> вектора линейно зависимы"
   ]
  },
  {
   "cell_type": "markdown",
   "metadata": {},
   "source": [
    "__3.__ Найти координаты вектора $x = (2, 3, 5)\\in \\mathbb{R}^{3}$ в базисе $b_{1}=(0, 0, 10)$, $b_{2}=(2, 0, 0)$, $b_{3}=(0, 1, 0)$."
   ]
  },
  {
   "cell_type": "markdown",
   "metadata": {},
   "source": [
    "(2,3,5) = α(0,0,10) + α(2,0,0) + α(0,1,0)\n",
    "\n",
    "(2,3,5) = (0α1 + 2α2 + 0α3,0α1 + 0α2 + 1α3,10α1 + 0α2 + 0α3)\n",
    "\n",
    "0α1 + 2α2 + 0α3 = 2\n",
    "\n",
    "0α1 + 0α2 + 1α3 = 3\n",
    "\n",
    "10α1 + 0α2 + 0α3 = 5\n",
    "\n",
    " --> (0.5,1,3)"
   ]
  },
  {
   "cell_type": "markdown",
   "metadata": {},
   "source": [
    "__4.__ Найти координаты вектора $3x^{2}-2x+2\\in\\mathbb{R}^{3}[x]$:\n",
    "\n",
    "   а) в базисе $1$, $x$, $x^{2}$;\n",
    "\n",
    "   б) в базисе $x^{2}$, $x-1$, $1$."
   ]
  },
  {
   "cell_type": "markdown",
   "metadata": {},
   "source": [
    "a) (2, -2, 3)\n",
    "\n",
    "б) (3, -2, 0 )"
   ]
  },
  {
   "cell_type": "markdown",
   "metadata": {},
   "source": [
    "__5.__ Установить, является ли линейным подпространством:\n",
    "\n",
    "а) совокупность всех векторов трехмерного пространства, у которых по крайней мере одна из первых двух координат равна нулю;\n",
    "    \n",
    "б) все векторы, являющиеся линейными комбинациями данных векторов $\\{u_{1}, u_{2}, ..., u_{n}\\}$."
   ]
  },
  {
   "cell_type": "markdown",
   "metadata": {},
   "source": [
    "a) $(0, a, b) + (c, 0, d) = (c, a, b+d)$ нелинейное подпространство\n",
    "\n",
    "б)  подпространство исходного линейного пространства"
   ]
  },
  {
   "cell_type": "markdown",
   "metadata": {},
   "source": [
    "__1.__ Найти скалярное произведение векторов $x, y \\in \\mathbb{R}$:<br>\n",
    "а) $x=(0,-3, 6),~y=(-4, 7, 9);$<br>\n",
    "б) $x=(7, -4, 0, 1),~y=(-3, 1, 11, 2).$\n",
    "\n"
   ]
  },
  {
   "cell_type": "markdown",
   "metadata": {},
   "source": [
    "a) $(x, y) = 0 \\cdot (-4) + (-3) \\cdot 7 + 6 \\cdot 9 = 33$\n",
    "\n",
    "\n",
    "б) $(x, y) = 7 \\cdot (-3) +(-4) \\cdot 1 + 0 \\cdot 11 + 1 \\cdot\\ 2 = -23$"
   ]
  },
  {
   "cell_type": "markdown",
   "metadata": {},
   "source": [
    "__2.__ Найти нормы векторов $(4, 2, 4)$ и $(12, 3, 4)$ и угол между ними.\n"
   ]
  },
  {
   "cell_type": "markdown",
   "metadata": {},
   "source": [
    "$(x, y) = 4 \\cdot 12 + 2 \\cdot 3 + 4 \\cdot 4 = 70$\n",
    "\n",
    "$\\left\\|x\\right\\|_{2} = \\sqrt{4^2 + 2^2 + 4^2} = 6$\n",
    "\n",
    "$\\left\\|y\\right\\|_{2} = \\sqrt{12^2 + 3^2 + 4^2} = 13$\n",
    "\n",
    "$\\cos{\\varphi} = \\frac{70}{6 \\cdot 13} = 0.8974$"
   ]
  },
  {
   "cell_type": "code",
   "execution_count": 1,
   "metadata": {},
   "outputs": [],
   "source": [
    "import numpy as np\n",
    "from numpy.linalg import norm\n",
    "import math"
   ]
  },
  {
   "cell_type": "code",
   "execution_count": 2,
   "metadata": {},
   "outputs": [
    {
     "name": "stdout",
     "output_type": "stream",
     "text": [
      "6.0 \n",
      "\n",
      "13.0\n"
     ]
    }
   ],
   "source": [
    "x = np.array([4, 2, 4])\n",
    "y = np.array([12, 3, 4])\n",
    "norm_x = norm(x, ord=2)\n",
    "norm_y = norm(y, ord=2)\n",
    "print(norm_x,'\\n')\n",
    "print(norm_y)"
   ]
  },
  {
   "cell_type": "code",
   "execution_count": 3,
   "metadata": {},
   "outputs": [
    {
     "data": {
      "text/plain": [
       "0.45687400353266105"
      ]
     },
     "execution_count": 3,
     "metadata": {},
     "output_type": "execute_result"
    }
   ],
   "source": [
    "cos_phi = np.dot(x, y) / (norm_x * norm_y)\n",
    "a = np.arccos(cos_phi)\n",
    "a"
   ]
  },
  {
   "cell_type": "markdown",
   "metadata": {},
   "source": [
    "__3.__ Будет ли линейное пространство евклидовым, если за скалярное произведение принять:<br>\n",
    "а) произведение длин векторов;<br>\n",
    "б) утроенное обычное скалярное произведение векторов?\n",
    "   "
   ]
  },
  {
   "cell_type": "markdown",
   "metadata": {},
   "source": [
    "а) Нет\n",
    "\n",
    "б) Да"
   ]
  },
  {
   "cell_type": "markdown",
   "metadata": {},
   "source": [
    "__4.__ Какие из нижеперечисленных векторов образуют ортонормированный базис в линейном пространстве $\\mathbb{R}^{3}$:<br>\n",
    "а) $(1,0,0),(0,0,1);$ <br>\n",
    "б) $(1/\\sqrt{2},-1/\\sqrt{2},0),(1/\\sqrt{2},1/\\sqrt{2},0), (0,0,1);$<br>\n",
    "в) $(1/2, -1/2, 0), (0, 1/2, 1/2), (0,0,1);$<br>\n",
    "г) $(1,0,0),(0,1,0),(0,0,1)?$ "
   ]
  },
  {
   "cell_type": "markdown",
   "metadata": {},
   "source": [
    "а) не хватает одного вектора\n"
   ]
  },
  {
   "cell_type": "code",
   "execution_count": 4,
   "metadata": {},
   "outputs": [
    {
     "data": {
      "text/plain": [
       "0.0"
      ]
     },
     "execution_count": 4,
     "metadata": {},
     "output_type": "execute_result"
    }
   ],
   "source": [
    "x = np.array([1/math.sqrt(2), -1/math.sqrt(2), 0])\n",
    "y = np.array([1/math.sqrt(2), 1/math.sqrt(2), 0])\n",
    "z = np.array([0, 0, 1])\n",
    "res= x[0] * y[0] * z[0] + x[1] * y[1] * z[1] + x[2] * y[2] * z[2]\n",
    "res"
   ]
  },
  {
   "cell_type": "code",
   "execution_count": 5,
   "metadata": {},
   "outputs": [
    {
     "name": "stdout",
     "output_type": "stream",
     "text": [
      "0.9999999999999999 0.9999999999999999 1.0\n"
     ]
    }
   ],
   "source": [
    "x_ = math.sqrt(x[0]*x[0] +x[1]*x[1] + x[2]*x[2])\n",
    "y_ = math.sqrt(y[0]*y[0] +y[1]*y[1] + y[2]*y[2])\n",
    "z_ = math.sqrt(z[0]*z[0] +z[1]*z[1] + z[2]*z[2])\n",
    "print(x_, y_, z_)"
   ]
  },
  {
   "cell_type": "markdown",
   "metadata": {},
   "source": [
    "ортонормированный базис\n",
    "\n",
    "в) $\\frac{1}{2} \\cdot \\frac{1}{2} + \\left(-\\frac{1}{2} \\cdot -\\frac{1}{2}\\right) + 0 \\cdot 0 = 0.5$\n",
    "Вектора $\\left(\\frac{1}{2}, -\\frac{1}{2}, 0\\right), \\left(0, \\frac{1}{2}, \\frac{1}{2}\\right), (0,0,1)$ -необразуют ортонормированный базис\n",
    "\n"
   ]
  },
  {
   "cell_type": "code",
   "execution_count": 6,
   "metadata": {},
   "outputs": [
    {
     "data": {
      "text/plain": [
       "0.0"
      ]
     },
     "execution_count": 6,
     "metadata": {},
     "output_type": "execute_result"
    }
   ],
   "source": [
    "x = np.array([1/2, -1/2, 0])\n",
    "y = np.array([0, 1/2, 1/2])\n",
    "z = np.array([0, 0, 1])\n",
    "res= x[0] * y[0] * z[0] + x[1] * y[1] * z[1] + x[2] * y[2] * z[2]\n",
    "res"
   ]
  },
  {
   "cell_type": "code",
   "execution_count": 9,
   "metadata": {},
   "outputs": [
    {
     "name": "stdout",
     "output_type": "stream",
     "text": [
      "0.7071067811865476 0.7071067811865476 1.0\n"
     ]
    }
   ],
   "source": [
    "x_ = math.sqrt(x[0]*x[0] +x[1]*x[1] + x[2]*x[2])\n",
    "y_ = math.sqrt(y[0]*y[0] +y[1]*y[1] + y[2]*y[2])\n",
    "z_ = math.sqrt(z[0]*z[0] +z[1]*z[1] + z[2]*z[2])\n",
    "print(x_, y_, z_)"
   ]
  },
  {
   "cell_type": "markdown",
   "metadata": {},
   "source": [
    "неортонормированный\n",
    "\n",
    "г)  ортонормированный базис"
   ]
  },
  {
   "cell_type": "code",
   "execution_count": null,
   "metadata": {},
   "outputs": [],
   "source": []
  }
 ],
 "metadata": {
  "kernelspec": {
   "display_name": "Python 3",
   "language": "python",
   "name": "python3"
  },
  "language_info": {
   "codemirror_mode": {
    "name": "ipython",
    "version": 3
   },
   "file_extension": ".py",
   "mimetype": "text/x-python",
   "name": "python",
   "nbconvert_exporter": "python",
   "pygments_lexer": "ipython3",
   "version": "3.7.6"
  }
 },
 "nbformat": 4,
 "nbformat_minor": 4
}
